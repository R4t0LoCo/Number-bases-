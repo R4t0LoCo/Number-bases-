{
  "nbformat": 4,
  "nbformat_minor": 0,
  "metadata": {
    "colab": {
      "provenance": [],
      "authorship_tag": "ABX9TyOEpnqCOvW4c92rOryxfkus"
    },
    "kernelspec": {
      "name": "python3",
      "display_name": "Python 3"
    },
    "language_info": {
      "name": "python"
    }
  },
  "cells": [
    {
      "cell_type": "code",
      "source": [
        "def to_dec(bin_num):\n",
        "    dec_num = 0\n",
        "    for i in range(len(bin_num)):\n",
        "        if bin_num[-(i+1)] == '1':\n",
        "            dec_num += 2**i\n",
        "    return dec_num\n",
        "\n",
        "bin_num = input(\"Enter a binary number: \")\n",
        "dec_num = to_dec(bin_num)\n",
        "print(\"Decimal equivalent: \" + str(dec_num))"
      ],
      "metadata": {
        "id": "DvDOUsOQMbyu"
      },
      "execution_count": null,
      "outputs": []
    }
  ]
}