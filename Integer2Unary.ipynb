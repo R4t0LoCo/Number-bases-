{
  "nbformat": 4,
  "nbformat_minor": 0,
  "metadata": {
    "colab": {
      "provenance": [],
      "authorship_tag": "ABX9TyM645ZH/ZItIHHH7D1mj/Ad"
    },
    "kernelspec": {
      "name": "python3",
      "display_name": "Python 3"
    },
    "language_info": {
      "name": "python"
    }
  },
  "cells": [
    {
      "cell_type": "code",
      "source": [
        "\n",
        "# function to convert a decimal number to unary\n",
        "def to_unary(dec_num, symbol=\"1\"):\n",
        "    return symbol * dec_num\n",
        "\n",
        "# main program\n",
        "\n",
        "dec_num = int(input(\"Enter a decimal number: \"))\n",
        "unary_symbol = input(\"Enter the symbol to use for unary representation (default is '1'): \")\n",
        "if unary_symbol == \"\":\n",
        "    unary_symbol = \"1\"\n",
        "unary_num = to_unary(dec_num, unary_symbol)\n",
        "print(\"Unary equivalent: \" + unary_num)"
      ],
      "metadata": {
        "id": "lETaiwQ5BHu_"
      },
      "execution_count": null,
      "outputs": []
    }
  ]
}