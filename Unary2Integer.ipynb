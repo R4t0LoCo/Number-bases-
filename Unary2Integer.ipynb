{
  "nbformat": 4,
  "nbformat_minor": 0,
  "metadata": {
    "colab": {
      "provenance": [],
      "authorship_tag": "ABX9TyOQg2MVpgyc7oLNqWl6Q5j+"
    },
    "kernelspec": {
      "name": "python3",
      "display_name": "Python 3"
    },
    "language_info": {
      "name": "python"
    }
  },
  "cells": [
    {
      "cell_type": "code",
      "source": [
        "# function to convert a unary number to decimal\n",
        "def to_dec(unary_num):\n",
        "    return len(unary_num)\n",
        "\n",
        "# main program\n",
        "unary_num = input(\"Enter a unary number: \")\n",
        "dec_num = to_dec(unary_num)\n",
        "print(\"Decimal equivalent: \" + str(dec_num))"
      ],
      "metadata": {
        "id": "OU6dRwAJjK95"
      },
      "execution_count": null,
      "outputs": []
    }
  ]
}