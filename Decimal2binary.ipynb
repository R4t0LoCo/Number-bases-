{
  "nbformat": 4,
  "nbformat_minor": 0,
  "metadata": {
    "colab": {
      "provenance": [],
      "authorship_tag": "ABX9TyOjpgIQOZeHcxPOL48fxmTY"
    },
    "kernelspec": {
      "name": "python3",
      "display_name": "Python 3"
    },
    "language_info": {
      "name": "python"
    }
  },
  "cells": [
    {
      "cell_type": "code",
      "execution_count": null,
      "metadata": {
        "id": "Ghbi2OBt64l2"
      },
      "outputs": [],
      "source": [
        "def to_bin(num):\n",
        "    result = \"\"\n",
        "    while num > 0:\n",
        "        remainder = num % 2\n",
        "        result = str(remainder) + result\n",
        "        num = math.floor(num / 2)\n",
        "    return result or '0'\n",
        "\n",
        "num = int(input(\"Enter an integer: \"))\n",
        "bin_num = to_bin(num)\n",
        "print(\"Binary equivalent: \" + bin_num)"
      ]
    }
  ]
}