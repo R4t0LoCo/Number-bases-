{
  "nbformat": 4,
  "nbformat_minor": 0,
  "metadata": {
    "colab": {
      "provenance": [],
      "authorship_tag": "ABX9TyOzQN4UB3/hFr+4cXkxVRSo",
      "include_colab_link": true
    },
    "kernelspec": {
      "name": "python3",
      "display_name": "Python 3"
    },
    "language_info": {
      "name": "python"
    }
  },
  "cells": [
    {
      "cell_type": "markdown",
      "metadata": {
        "id": "view-in-github",
        "colab_type": "text"
      },
      "source": [
        "<a href=\"https://colab.research.google.com/github/R4t0LoCo/Number-bases-/blob/main/Ternary2decimal.ipynb\" target=\"_parent\"><img src=\"https://colab.research.google.com/assets/colab-badge.svg\" alt=\"Open In Colab\"/></a>"
      ]
    },
    {
      "cell_type": "code",
      "source": [
        "def to_dec(ternary_num):\n",
        "    dec_num = 0\n",
        "    for i in range(len(ternary_num)):\n",
        "        digit = int(ternary_num[-(i+1)])\n",
        "        dec_num += digit * (3**i)\n",
        "    return dec_num\n",
        "\n",
        "ternary_num = input(\"Enter a ternary number: \")\n",
        "dec_num = to_dec(ternary_num)\n",
        "print(\"Decimal equivalent: \" + str(dec_num))"
      ],
      "metadata": {
        "id": "TmxC_3TQUhqt"
      },
      "execution_count": null,
      "outputs": []
    }
  ]
}