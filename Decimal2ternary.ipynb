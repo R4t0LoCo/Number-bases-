{
  "nbformat": 4,
  "nbformat_minor": 0,
  "metadata": {
    "colab": {
      "provenance": [],
      "authorship_tag": "ABX9TyPtQhFLDqxH6oFmb9CSv54m"
    },
    "kernelspec": {
      "name": "python3",
      "display_name": "Python 3"
    },
    "language_info": {
      "name": "python"
    }
  },
  "cells": [
    {
      "cell_type": "code",
      "source": [
        "def to_ternary(dec_num):\n",
        "    ternary_num = \"\"\n",
        "    while dec_num > 0:\n",
        "        remainder = dec_num % 3\n",
        "        ternary_num = str(remainder) + ternary_num\n",
        "        dec_num = dec_num // 3\n",
        "    return ternary_num or '0'\n",
        "\n",
        "dec_num = int(input(\"Enter a decimal number: \"))\n",
        "ternary_num = to_ternary(dec_num)\n",
        "print(\"Ternary equivalent: \" + ternary_num)"
      ],
      "metadata": {
        "colab": {
          "base_uri": "https://localhost:8080/"
        },
        "id": "YE2vfg9ER2s4",
        "outputId": "158839a9-ae5c-4d77-c162-cad3e59d6fd4"
      },
      "execution_count": 7,
      "outputs": [
        {
          "output_type": "stream",
          "name": "stdout",
          "text": [
            "Enter a decimal number: 7895437\n",
            "Ternary equivalent: 112212010111121\n"
          ]
        }
      ]
    }
  ]
}